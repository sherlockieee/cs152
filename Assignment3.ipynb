{
  "nbformat": 4,
  "nbformat_minor": 0,
  "metadata": {
    "kernelspec": {
      "display_name": "Python 3",
      "language": "python",
      "name": "python3"
    },
    "language_info": {
      "codemirror_mode": {
        "name": "ipython",
        "version": 3
      },
      "file_extension": ".py",
      "mimetype": "text/x-python",
      "name": "python",
      "nbconvert_exporter": "python",
      "pygments_lexer": "ipython3",
      "version": "3.8.5"
    },
    "colab": {
      "name": "Assignment3.ipynb",
      "provenance": [],
      "include_colab_link": true
    }
  },
  "cells": [
    {
      "cell_type": "markdown",
      "metadata": {
        "id": "view-in-github",
        "colab_type": "text"
      },
      "source": [
        "<a href=\"https://colab.research.google.com/github/sherlockieee/cs152/blob/main/Assignment3.ipynb\" target=\"_parent\"><img src=\"https://colab.research.google.com/assets/colab-badge.svg\" alt=\"Open In Colab\"/></a>"
      ]
    },
    {
      "cell_type": "markdown",
      "metadata": {
        "id": "uRV-GrvLF8ad"
      },
      "source": [
        "Before you turn this problem in, make sure everything runs as expected. First, **restart the kernel** (in the menubar, select Kernel$\\rightarrow$Restart) and then **run all cells** (in the menubar, select Cell$\\rightarrow$Run All).\n",
        "\n",
        "Make sure you fill in any place that says `YOUR CODE HERE` or \"YOUR ANSWER HERE\", as well as your name and collaborators below:"
      ]
    },
    {
      "cell_type": "code",
      "metadata": {
        "id": "sO0f-O6MF8af"
      },
      "source": [
        "NAME = \"Ha Tran Nguyen Phuong\"\n",
        "COLLABORATORS = \"\""
      ],
      "execution_count": 116,
      "outputs": []
    },
    {
      "cell_type": "markdown",
      "metadata": {
        "id": "rGEbuGaXF8ah"
      },
      "source": [
        "---"
      ]
    },
    {
      "cell_type": "markdown",
      "metadata": {
        "deletable": false,
        "editable": false,
        "nbgrader": {
          "cell_type": "markdown",
          "checksum": "5b18cdfb16f0a437495243b80a31b277",
          "grade": false,
          "grade_id": "cell-36d7173cbd11c12a",
          "locked": true,
          "schema_version": 3,
          "solution": false,
          "task": false
        },
        "id": "pMcOQsogF8ah"
      },
      "source": [
        "<h1>CS152 Assignment 3: The DPLL Algorithm</h1>"
      ]
    },
    {
      "cell_type": "markdown",
      "metadata": {
        "deletable": false,
        "editable": false,
        "nbgrader": {
          "cell_type": "markdown",
          "checksum": "7947006e03ad4d3e0b5469c4ddf997f0",
          "grade": false,
          "grade_id": "cell-8ec27aa9925ffc86",
          "locked": true,
          "schema_version": 3,
          "solution": false,
          "task": false
        },
        "id": "kPkwsfIzF8ah"
      },
      "source": [
        "<h1>Question 1</h1>\n",
        "\n",
        "Define your <code>Literal</code> class below.  Ensure that you define a <code>name</code> and <code>sign</code> attribute as required in the assignment description.  In addition, include any other attributes and member functions as needed. You will need to overload <code>__neg__()</code> to correctly handle negated literals.  You may need to overload <code>__eq__()</code> and <code>__hash__()</code> also."
      ]
    },
    {
      "cell_type": "code",
      "metadata": {
        "deletable": false,
        "nbgrader": {
          "cell_type": "code",
          "checksum": "6f3dcb95b91cd3b0f526b89f339b3fe9",
          "grade": false,
          "grade_id": "cell-575ae3fbbe1ccbf6",
          "locked": false,
          "schema_version": 3,
          "solution": true,
          "task": false
        },
        "id": "HR-UbQ4rF8ai"
      },
      "source": [
        "# Import any packages you need here\n",
        "# Also define any variables as needed\n",
        "\n",
        "\n",
        "class Literal:\n",
        "    def __init__(self, name, sign = True):\n",
        "        self.name = name\n",
        "        self.sign = sign\n",
        "    \n",
        "    def __neg__(self):\n",
        "        return Literal(self.name, sign = not self.sign)\n",
        "\n",
        "    def __repr__(self):\n",
        "        if not self.sign:\n",
        "            return f\"-{self.name}\"\n",
        "        return f\"{self.name}\"\n",
        "    \n",
        "    def __hash__(self):\n",
        "        return hash(self.name)\n",
        "    \n",
        "    def __eq__(self, other):\n",
        "        return self.name == other.name\n",
        "\n",
        "    def __lt__(self, other):\n",
        "        \"\"\"Less than operator to implement alphabetical order\"\"\"\n",
        "        return self.name > other.name\n",
        "    \n",
        "    def __gt__(self, other):\n",
        "        \"\"\"Greater than operator to implement alphabetical order\"\"\"\n",
        "        return self.name < other.name\n",
        "\n"
      ],
      "execution_count": 117,
      "outputs": []
    },
    {
      "cell_type": "markdown",
      "metadata": {
        "deletable": false,
        "editable": false,
        "nbgrader": {
          "cell_type": "markdown",
          "checksum": "7e6af6a3602f2712265baf6d3ce930f4",
          "grade": false,
          "grade_id": "cell-5df02e9e3f9998b4",
          "locked": true,
          "schema_version": 3,
          "solution": false,
          "task": false
        },
        "id": "8jSWXEjqF8ai"
      },
      "source": [
        "<h1>Question 2</h1>\n",
        "Implement DPLL by filling in the stubs below.  Note that the various heuristics are not required to be implemented for basic functionality, but a template has been provided for you to do so if you attempt the extension questions"
      ]
    },
    {
      "cell_type": "code",
      "metadata": {
        "deletable": false,
        "nbgrader": {
          "cell_type": "code",
          "checksum": "4ddf2e140725e3b8a6048c92bac9580c",
          "grade": false,
          "grade_id": "cell-2846b43cfaf88026",
          "locked": false,
          "schema_version": 3,
          "solution": true,
          "task": false
        },
        "colab": {
          "base_uri": "https://localhost:8080/"
        },
        "id": "MBnqbvnWF8ai",
        "outputId": "3fdab017-7b37-41bc-924f-18980fcf4276"
      },
      "source": [
        "# Define degree, pure symbol and unit clause heuristics here (optional).\n",
        "# Add in your functions under the templates below\n",
        "# YOUR CODE HERE (OPTIONAL)\n",
        "\n",
        "from collections import defaultdict\n",
        "\n",
        "def DPLL_Satisfiable(KB, heuristic_level=0):\n",
        "    '''Takes in a KB and returns whether the KB is satisfiable, the model that makes it so\n",
        "    and the symbol list that is explored\n",
        "    (satisfiable, sat_model, symbol_list) = DPLL_Satisfiable(KB, heuristic_level)\n",
        "        \n",
        "    Parameters:\n",
        "    -----------\n",
        "    KB: list[Set(Literal)]\n",
        "        A knowledge base of clauses (CNF) consisting of a list of sets of literals.  \n",
        "        A KB might look like [{A,B},{-A,C,D}]\n",
        "    heuristic_level: int\n",
        "        An integer that will be passed in to specify which heuristics to implement.\n",
        "        heuristic_level = 0: No heuristic\n",
        "        heuristic_level = 1: Degree heuristic\n",
        "        heuristic_level = 2: Unit clause and pure symbol heuristic\n",
        "        heuristic_level = 3: Unit clause, pure symbol and degree heuristic\n",
        "    \n",
        "    Returns:\n",
        "    -----------\n",
        "    Tuple(bool, dict{Literal: bool}, list[Literal])\n",
        "        satisfiable: Returns True if the KB is satisfiable, or False otherwise\n",
        "        sat_model: A dictionary that assigns a truth value to each literal for the model \n",
        "        that satisfies KB. For example, a model might look like {A: True, B: False}\n",
        "        symbol_list: list of literal objects that indicate the order in which literals are assigned\n",
        "    '''\n",
        "    #Get all symbols\n",
        "    symbols = set()\n",
        "    for clause in KB:\n",
        "        for literal in clause:\n",
        "            symbols.add(literal if literal.sign else -literal)\n",
        "    return DPLL(KB, symbols, {}, heuristic_level)\n",
        "\n",
        "def DPLL(clauses, symbols, model, heuristic_level, symbol_list = None):\n",
        "    '''Takes in a list of clauses and returns whether the KB is satisfiable, \n",
        "     the model that makes it so, and the symbol list that is explored\n",
        "    (satisfiable, sat_model, symbol_list) = DPLL(clauses, symbols, model, heuristic_level, symbol_list)\n",
        "        \n",
        "    Parameters:\n",
        "    -----------\n",
        "    clauses: list[Set(Literal)]\n",
        "        A knowledge base of clauses (CNF) consisting of a list of sets of literals.  \n",
        "        A KB might look like [{A,B},{-A,C,D}]\n",
        "    symbols: set(Literal)\n",
        "        A set of all symbols used in the clauses that have not been explored\n",
        "    model: dict{Literal: bool}\n",
        "        The model created thus far, consisting of the literal and its associated value\n",
        "    heuristic_level: int\n",
        "        An integer that will be passed in to specify which heuristics to implement.\n",
        "        heuristic_level = 0: No heuristic\n",
        "        heuristic_level = 1: Degree heuristic\n",
        "        heuristic_level = 2: Unit clause and pure symbol heuristic\n",
        "        heuristic_level = 3: Unit clause, pure symbol and degree heuristic\n",
        "    symbol_list: list/ None\n",
        "        A list containing which symbols have been explored so far\n",
        "    \n",
        "    Returns:\n",
        "    -----------\n",
        "    Tuple(bool, dict{Literal: bool}, list[Literal])\n",
        "        satisfiable: Returns True if the KB is satisfiable, or False otherwise\n",
        "        sat_model: A dictionary that assigns a truth value to each literal for the model \n",
        "        that satisfies KB. For example, a model might look like {A: True, B: False}\n",
        "        symbol_list: list of literal objects that indicate the order in which literals are assigned\n",
        "    '''\n",
        "\n",
        "    #if every clause is true, we would get an empty list of clauses\n",
        "    #then we don't need to evaluate the rest and can just return the model\n",
        "    if not clauses:\n",
        "        return True, model, symbol_list\n",
        "\n",
        "    #check if any clause is all false in the model\n",
        "    if set() in clauses:\n",
        "        return False, {}, []\n",
        "\n",
        "    #initialize list to avoid Python's mutable problem\n",
        "    if symbol_list is None:\n",
        "        symbol_list = []\n",
        "    \n",
        "    def degree_heuristic(clauses):\n",
        "        '''Find the symbol that occur over the most clauses\n",
        "        \n",
        "        Parameters:\n",
        "        -----------\n",
        "        clauses: list[Set(Literal)]\n",
        "            A knowledge base of clauses (CNF) consisting of a list of sets of literals.  \n",
        "            A KB might look like [{A,B},{-A,C,D}]\n",
        "        \n",
        "        Returns:\n",
        "        -----------\n",
        "        Literal\n",
        "            The literal with the highest degree'''\n",
        "        counts = defaultdict(int)\n",
        "        for clause in clauses:\n",
        "            for symbol in clause:\n",
        "                #only take positive symbol\n",
        "                abs_symbol = symbol if symbol.sign else -symbol\n",
        "                counts[abs_symbol] += 1\n",
        "        P = max([(count, symbol) for symbol, count in counts.items()])[1]\n",
        "        return P\n",
        "\n",
        "    def find_pure_symbol(clauses):\n",
        "        '''Inner function, find all pure symbols in the remaining clauses\n",
        "        \n",
        "        Parameters:\n",
        "        -----------\n",
        "        clauses: list[Set(Literal)]\n",
        "            A knowledge base of clauses (CNF) consisting of a list of sets of literals.  \n",
        "            A KB might look like [{A,B},{-A,C,D}]\n",
        "        \n",
        "        Returns:\n",
        "        -----------\n",
        "        list[Literal]\n",
        "            A list of pure symbols'''\n",
        "        pure = {}\n",
        "        for clause in clauses:\n",
        "            for symbol in clause:\n",
        "                if symbol not in pure:\n",
        "                    pure[symbol] = symbol.sign\n",
        "                elif pure[symbol] != symbol.sign:\n",
        "                    pure[symbol] = None\n",
        "        return [symbol for symbol in pure.keys() if pure[symbol] is not None]\n",
        "\n",
        "    def unit_clause_heuristic(clauses):\n",
        "        '''Inner function, find all literals satisfying the unit clause heuristic\n",
        "        \n",
        "        Parameters:\n",
        "        -----------\n",
        "        clauses: list[Set(Literal)]\n",
        "            A knowledge base of clauses (CNF) consisting of a list of sets of literals.  \n",
        "            A KB might look like [{A,B},{-A,C,D}]\n",
        "        \n",
        "        Returns:\n",
        "        -----------\n",
        "        list[Literal]\n",
        "            A list of symbols satisfying the unit clause heuristic'''\n",
        "        return [symbol for clause in clauses for symbol in clause if len(clause) == 1]\n",
        "\n",
        "    #if heuristic level = 0, just get a random P \n",
        "    if heuristic_level == 0:\n",
        "        #get the first element in set\n",
        "        for P in symbols:\n",
        "            break\n",
        "\n",
        "    #apply degree heuristic if heuristic level = 1\n",
        "    if heuristic_level == 1:\n",
        "        P = degree_heuristic(clauses)\n",
        "\n",
        "    #apply unit clause and pure symbol heuristic if heuristic level >= 2\n",
        "    if heuristic_level >= 2:\n",
        "        all_pure = find_pure_symbol(clauses)\n",
        "        all_unit_clause = unit_clause_heuristic(clauses)\n",
        "        #find all symbols that are either pure or part of unit clauses\n",
        "        #and are in the remaining list of symbols\n",
        "        all_heuristic = (set(all_pure) | set(all_unit_clause)) & symbols\n",
        "        if not all_heuristic:\n",
        "            P = degree_heuristic(clauses)\n",
        "\n",
        "        #choose P alphabetically if heuristic level = 2\n",
        "        elif heuristic_level == 2:\n",
        "            P = max(all_heuristic)\n",
        "\n",
        "        #use degree heuristic among clauses that contain the symbols if heuristic level = 3\n",
        "        elif heuristic_level == 3:\n",
        "            new_clauses = []\n",
        "            for clause in clauses:\n",
        "                for symbol in clause:\n",
        "                    if symbol in all_heuristic:\n",
        "                        new_clauses.append(clause)\n",
        "                        break\n",
        "\n",
        "            P = degree_heuristic(new_clauses)\n",
        "\n",
        "\n",
        "    rest = symbols - {P}\n",
        "\n",
        "    def create_clause_and_model(clauses, model, P, sign):\n",
        "        '''Create new clauses and model for a new P with a particular sign\n",
        "        \n",
        "        Parameters:\n",
        "        -----------\n",
        "        clauses: list[Set(Literal)]\n",
        "            A knowledge base of clauses (CNF) consisting of a list of sets of literals.  \n",
        "            A KB might look like [{A,B},{-A,C,D}]\n",
        "        model: dict{Literal: bool}\n",
        "            The model created so far, consisting of the literal and its associated value\n",
        "        P: Literal\n",
        "            The literal to be removed from the clauses\n",
        "        sign: bool\n",
        "            The sign of the particular literal\n",
        "        \n",
        "        Returns:\n",
        "        -----------\n",
        "        Tuple(list[Set(Literal)], dict{Literal: bool})\n",
        "            A tuple consisting of two values\n",
        "            The first is the new clauses after we assign P a particular sign\n",
        "            The second is the new model with P inside'''\n",
        "        new_clauses = []\n",
        "\n",
        "        for clause in clauses:\n",
        "            #if P is not in the old clause, there's no change to be made\n",
        "            if P not in clause:\n",
        "                new_clause = set(clause)\n",
        "                new_clauses.append(new_clause)\n",
        "            else:\n",
        "                #if P is in the clause\n",
        "                for sym in clause:\n",
        "                    if sym == P:\n",
        "                        #if it's of a different sign\n",
        "                        #we remove this from the set so it cannot be evaluated\n",
        "                        if sym.sign != sign:\n",
        "                            new_clause = set(clause - {P})\n",
        "                            new_clauses.append(new_clause)\n",
        "                        break\n",
        "        #create a new model with P\n",
        "        new_model = {P: sign}\n",
        "        new_model.update(model)\n",
        "        return new_clauses, new_model\n",
        "\n",
        "    #do recursive function when P is True\n",
        "    positive_clauses, positive_model = create_clause_and_model(clauses, model, P, True)\n",
        "    positive = DPLL(positive_clauses, rest, positive_model, heuristic_level, symbol_list + [P])\n",
        "    #if we find a result, we simple need to return the found model\n",
        "    if positive[0]:\n",
        "        return positive\n",
        "    #do recursive function when P is False\n",
        "    negative_clauses, negative_model = create_clause_and_model(clauses, model, P, False)\n",
        "    negative = DPLL(negative_clauses, rest, negative_model, heuristic_level, symbol_list + [P])\n",
        "    #if we find a result, we simple need to return the found model\n",
        "    if negative[0]:\n",
        "        return negative\n",
        "    #if P can't be both negative and positive, the model cannot be satisfied\n",
        "    return False, {}, []\n",
        "\n",
        "DPLL_Satisfiable(KB,3)\n",
        "\n",
        "\n"
      ],
      "execution_count": 118,
      "outputs": [
        {
          "output_type": "execute_result",
          "data": {
            "text/plain": [
              "(True, {E: False, D: True, B: False, A: False}, [D, B, E, A])"
            ]
          },
          "metadata": {},
          "execution_count": 118
        }
      ]
    },
    {
      "cell_type": "markdown",
      "metadata": {
        "deletable": false,
        "editable": false,
        "nbgrader": {
          "cell_type": "markdown",
          "checksum": "1a373b0f237fb333214a04ced058f50f",
          "grade": false,
          "grade_id": "cell-8c6248549aeaca88",
          "locked": true,
          "schema_version": 3,
          "solution": false,
          "task": false
        },
        "id": "2fsEK0gRF8aj"
      },
      "source": [
        "<h1>Question 3</h1>\n",
        "\n",
        "Implement your KB from Russell & Norvig in CNF by filling in the sets inside the list <code>KB</code> below.  Ensure that your KB is in a list of set format as stated in the assignment instructions."
      ]
    },
    {
      "cell_type": "markdown",
      "metadata": {
        "id": "OzornSGvTIow"
      },
      "source": [
        "$ S1: A \\iff (B \\lor E)$\n",
        "\n",
        "$ \\Rightarrow (A \\Rightarrow (B \\lor E) ) \\land ((B \\lor E) \\Rightarrow A )$\n",
        "\n",
        "\n",
        "$ \\Rightarrow (\\neg A \\lor B \\lor E ) \\land (\\neg (B \\lor E) \\lor A )$\n",
        "\n",
        "$ \\Rightarrow (\\neg A \\lor B \\lor E ) \\land ((\\neg B \\land \\neg E) \\lor A )$\n",
        "\n",
        "$ \\Rightarrow (\\neg A \\lor B \\lor E ) \\land (\\neg B \\lor A) \\land (\\neg E \\lor A )$\n",
        "\n",
        "$ S2: E \\Rightarrow D $\n",
        "\n",
        "$ \\Rightarrow \\neg E \\lor D $\n",
        "\n",
        "\n",
        "$ S3: C \\land F \\Rightarrow \\neg B $\n",
        "\n",
        "$ \\Rightarrow \\neg (E \\land F) \\lor \\neg B $\n",
        "\n",
        "$ \\Rightarrow \\neg E \\lor \\neg F \\lor \\neg B $\n",
        "\n",
        "$ S4: E \\Rightarrow B $\n",
        "\n",
        "$ \\Rightarrow \\neg E \\lor B $\n",
        "\n",
        "$ S5: B \\Rightarrow F $\n",
        "\n",
        "$ \\Rightarrow \\neg B \\lor F $\n",
        "\n",
        "$ S6: B \\Rightarrow C $\n",
        "\n",
        "$ \\Rightarrow \\neg B \\lor C $"
      ]
    },
    {
      "cell_type": "code",
      "metadata": {
        "deletable": false,
        "nbgrader": {
          "cell_type": "code",
          "checksum": "a545c5a7e460e8a160a96549fba09556",
          "grade": false,
          "grade_id": "cell-2600ca4ae2649468",
          "locked": false,
          "schema_version": 3,
          "solution": true,
          "task": false
        },
        "colab": {
          "base_uri": "https://localhost:8080/"
        },
        "id": "bWbSBXt2F8aj",
        "outputId": "83905c2d-f7b6-441c-edf7-abe2b82cb048"
      },
      "source": [
        "# Define some literals\n",
        "A = Literal('A')\n",
        "B = Literal('B')\n",
        "C = Literal('C')\n",
        "D = Literal('D')\n",
        "E = Literal('E')\n",
        "F = Literal('F')\n",
        "\n",
        "# YOUR CODE HERE\n",
        "KB = [{-A, B, E}, {-B, A}, {-E, A}, {-E, D}, {-C, -F, -B}, {-E, B}, {-B, F}, {-B, C}]\n",
        "\n",
        "DPLL_Satisfiable(KB, 3)"
      ],
      "execution_count": 119,
      "outputs": [
        {
          "output_type": "execute_result",
          "data": {
            "text/plain": [
              "(True, {E: False, D: True, B: False, A: False}, [D, B, E, A])"
            ]
          },
          "metadata": {},
          "execution_count": 119
        }
      ]
    },
    {
      "cell_type": "markdown",
      "metadata": {
        "deletable": false,
        "editable": false,
        "nbgrader": {
          "cell_type": "markdown",
          "checksum": "197d7a486e328210a1d13c24747b3111",
          "grade": false,
          "grade_id": "cell-3e6849da5a8eba9a",
          "locked": true,
          "schema_version": 3,
          "solution": false,
          "task": false
        },
        "id": "J_PQV0HmF8aj"
      },
      "source": [
        "<h1>Extensions</h1>\n",
        "\n",
        "1. Implement the degree heuristic for choosing symbols.  If <code>heuristic_level=1</code>, then the degree heuristic should be used to select which symbol to assign.\n",
        "2. Implement the pure symbol and unit clause heuristics.  If <code>heuristic_level=2</code>, then these heuristics should be used to find select first a pure symbol, and if one is not found, then a unit clause.  If neither pure symbols nor unit clauses are found, then the degree heuristic should be used to select a symbol.  If there are multiple pure symbols or unit clauses found, then use alphabetical order to select amongst them.\n",
        "3. Modify the pure symbol heuristic to choose the pure symbol that occurs in the most number of clauses.  This should be activated if <code>heuristic_level=3</code>."
      ]
    },
    {
      "cell_type": "markdown",
      "metadata": {
        "deletable": false,
        "editable": false,
        "nbgrader": {
          "cell_type": "markdown",
          "checksum": "755ed998a518249d48e3e3518ec2ed63",
          "grade": false,
          "grade_id": "cell-f24016ad18be5ed3",
          "locked": true,
          "schema_version": 3,
          "solution": false,
          "task": false
        },
        "id": "21wflQlDF8ak"
      },
      "source": [
        "<h1>Basic Functionality Tests</h1>\n",
        "\n",
        "All of the tests in this section must be passed for the code to be considered fully functional.  Other unseen test cases will be used after submission to further verify functionality"
      ]
    },
    {
      "cell_type": "code",
      "metadata": {
        "deletable": false,
        "editable": false,
        "nbgrader": {
          "cell_type": "code",
          "checksum": "ea88980a283406b7789cd4f485dc3172",
          "grade": true,
          "grade_id": "cell-6af1cbc180046559",
          "locked": true,
          "points": 1,
          "schema_version": 3,
          "solution": false,
          "task": false
        },
        "id": "Bbj4IZVsF8ak"
      },
      "source": [
        "# This section will test the correct definition of the literal class\n",
        "\n",
        "\n",
        "# Test the name attribute works correctly\n",
        "assert(A.name == 'A')\n",
        "\n",
        "# Test that negation works correctly\n",
        "assert(not (-C).sign)"
      ],
      "execution_count": 120,
      "outputs": []
    },
    {
      "cell_type": "code",
      "metadata": {
        "deletable": false,
        "editable": false,
        "nbgrader": {
          "cell_type": "code",
          "checksum": "9264e8da332b50a0adf2a1de4ec4a591",
          "grade": true,
          "grade_id": "cell-76b5f4949b4918a0",
          "locked": true,
          "points": 2,
          "schema_version": 3,
          "solution": false,
          "task": false
        },
        "id": "22QOozqcF8ak"
      },
      "source": [
        "# This section will test that the KB has been correctly converted to CNF by performing \n",
        "# tests over all possible models\n",
        "import itertools\n",
        "symbols = {A,B,C,D,E,F}\n",
        "symbol_list = [A,B,C,D,E,F]\n",
        "\n",
        "def evaluate_russell_norvig_KB(model):\n",
        "    # Manually evaluate the KB using the model\n",
        "    s = list()\n",
        "    s.append(model[A] == (model[B] or model[E]))\n",
        "    s.append(model[E] <= model[D])\n",
        "    s.append((model[C] and model[F]) <= (not model[B]))\n",
        "    s.append(model[E] <= model[B])\n",
        "    s.append(model[B] <= model[F])\n",
        "    s.append(model[B] <= model[C])\n",
        "    return all(s)\n",
        "\n",
        "def evaluate_KB(KB, model):\n",
        "    model_true = True\n",
        "    model_name_dict = {l.name: model[l] for l in model}\n",
        "    for clause in KB:\n",
        "        evaluation = {l.sign == model_name_dict[l.name] for l in clause if l.name in model_name_dict}\n",
        "        model_true = model_true and any(evaluation)\n",
        "    return model_true\n",
        "\n",
        "all_models = list(itertools.product([False, True], repeat=6))\n",
        "for i in range(0, len(all_models)):\n",
        "    # Test all truth values\n",
        "    test_model = {symbol_list[j]: all_models[i][j] for j in range(0,6)}\n",
        "    \n",
        "    # Test the model\n",
        "    assert(evaluate_russell_norvig_KB(test_model) == evaluate_KB(KB, test_model))"
      ],
      "execution_count": 121,
      "outputs": []
    },
    {
      "cell_type": "code",
      "metadata": {
        "deletable": false,
        "editable": false,
        "nbgrader": {
          "cell_type": "code",
          "checksum": "bd40af18e4e25d64cb61ca9425b25eeb",
          "grade": true,
          "grade_id": "cell-5007c88f303571cb",
          "locked": true,
          "points": 4,
          "schema_version": 3,
          "solution": false,
          "task": false
        },
        "colab": {
          "base_uri": "https://localhost:8080/"
        },
        "id": "o5UngIcQF8al",
        "outputId": "d7396127-2dd2-4056-dd4f-067ef94c3d60"
      },
      "source": [
        "# This section will test the basic working of DPLL\n",
        "# Satisfiable model\n",
        "# test_KB = [{A, C},{-A, C}, {B, -C}]\n",
        "# t, model, symbol_trace = DPLL_Satisfiable(test_KB)\n",
        "# assert(evaluate_KB(test_KB, model))\n",
        "# assert(t)\n",
        "\n",
        "# Unsatisfiable model\n",
        "test_KB = [{A, C},{-A, C}, {-C}]\n",
        "t, model, symbol_trace = DPLL_Satisfiable(test_KB)\n",
        "print(t, model, symbol_trace)\n",
        "assert(not t)"
      ],
      "execution_count": 122,
      "outputs": [
        {
          "output_type": "stream",
          "name": "stdout",
          "text": [
            "False {} []\n"
          ]
        }
      ]
    },
    {
      "cell_type": "code",
      "metadata": {
        "deletable": false,
        "editable": false,
        "nbgrader": {
          "cell_type": "code",
          "checksum": "5d93f38084e3ef0a6cf8b286f3e12054",
          "grade": true,
          "grade_id": "cell-63ce3735a6a8d49e",
          "locked": true,
          "points": 8,
          "schema_version": 3,
          "solution": false,
          "task": false
        },
        "id": "9roafV_7F8al"
      },
      "source": [
        "# This will test DPLL on the KB from Russell & Norvig\n",
        "t, model, symbol_trace = DPLL_Satisfiable(KB,0)\n",
        "\n",
        "# This model is satisfiable.  Test that it is so\n",
        "assert(t)\n",
        "\n",
        "# Check that the model found actually works\n",
        "assert(evaluate_KB(KB, model)) "
      ],
      "execution_count": 123,
      "outputs": []
    },
    {
      "cell_type": "markdown",
      "metadata": {
        "deletable": false,
        "editable": false,
        "nbgrader": {
          "cell_type": "markdown",
          "checksum": "ce65b5b44bde9f05b920ae0d91060dae",
          "grade": false,
          "grade_id": "cell-d4a09c27c6cafd14",
          "locked": true,
          "schema_version": 3,
          "solution": false,
          "task": false
        },
        "id": "WTdAbHl_F8al"
      },
      "source": [
        "<h1>Extension Tests</h1>\n",
        "\n",
        "This section will test that the degree heuristic, pure symbol and unit clause heuristics are correctly implemented.  Note that in your code, the <code>heuristic_level</code> needs to correctly activate the heuristic being tested, and the <code>symbol_trace</code> needs to be correctly generated "
      ]
    },
    {
      "cell_type": "code",
      "metadata": {
        "deletable": false,
        "editable": false,
        "nbgrader": {
          "cell_type": "code",
          "checksum": "f424f4aebd9db7873be8b31b6b7c92b7",
          "grade": true,
          "grade_id": "cell-782f68d63b7be51f",
          "locked": true,
          "points": 16,
          "schema_version": 3,
          "solution": false,
          "task": false
        },
        "colab": {
          "base_uri": "https://localhost:8080/"
        },
        "id": "RckeabQTF8am",
        "outputId": "9ba715d6-74f4-4234-cd03-c601d1a34725"
      },
      "source": [
        "# Degree Heuristic Test for KB from Russell & Norvig\n",
        "t, model, symbol_trace = DPLL_Satisfiable(KB,1)\n",
        "print(model)\n",
        "print(symbol_trace)\n",
        "\n",
        "# This model is satisfiable.  Test that it is so\n",
        "assert(t)\n",
        "\n",
        "# Check that the model found actually works\n",
        "assert(evaluate_KB(KB, model))  \n",
        "\n",
        "# Test the symbol trace to ensure that the correct order is chosen\n",
        "assert([l.name for l in symbol_trace] in [['B','F', 'E', 'C', 'C', 'E', 'A'], \n",
        "                                          ['B', 'A', 'C', 'F', 'E', 'A'], \n",
        "                                          ['B','E','A']])\n",
        "\n",
        "symbol_trace"
      ],
      "execution_count": 124,
      "outputs": [
        {
          "output_type": "stream",
          "name": "stdout",
          "text": [
            "{A: False, E: False, B: False}\n",
            "[B, E, A]\n"
          ]
        },
        {
          "output_type": "execute_result",
          "data": {
            "text/plain": [
              "[B, E, A]"
            ]
          },
          "metadata": {},
          "execution_count": 124
        }
      ]
    },
    {
      "cell_type": "code",
      "metadata": {
        "deletable": false,
        "editable": false,
        "nbgrader": {
          "cell_type": "code",
          "checksum": "2bb85f7fb1f6d58b16dbfd8705608a21",
          "grade": true,
          "grade_id": "cell-1849b5bca210fac7",
          "locked": true,
          "points": 32,
          "schema_version": 3,
          "solution": false,
          "task": false
        },
        "colab": {
          "base_uri": "https://localhost:8080/"
        },
        "id": "f855h1VpF8am",
        "outputId": "e0dac8ed-50ec-40fb-ae92-d59dd1c0c123"
      },
      "source": [
        "# Pure Symbol & Unit Clause Heuristic Test for KB from Russell & Norvig\n",
        "t, model, symbol_trace = DPLL_Satisfiable(KB,2)\n",
        "print(model)\n",
        "print(symbol_trace)\n",
        "\n",
        "\n",
        "# This model is satisfiable.  Test that it is so\n",
        "assert(t)\n",
        "\n",
        "# Check that the model found actually works\n",
        "assert(evaluate_KB(KB, model))\n",
        "\n",
        "# Test the symbol trace to ensure that the correct order is chosen\n",
        "assert([l.name for l in symbol_trace] in [['D', 'B', 'E', 'A', 'C', 'F', 'E', 'A'], \n",
        "                                          ['D', 'B', 'A', 'C', 'F', 'E', 'A'], \n",
        "                                          ['D', 'B' ,'E', 'A']])"
      ],
      "execution_count": 125,
      "outputs": [
        {
          "output_type": "stream",
          "name": "stdout",
          "text": [
            "{-A: False, -E: False, B: False, D: True}\n",
            "[D, B, -E, -A]\n"
          ]
        }
      ]
    },
    {
      "cell_type": "code",
      "metadata": {
        "deletable": false,
        "editable": false,
        "nbgrader": {
          "cell_type": "code",
          "checksum": "4157d3933516a5b6a22c8950e8063cc9",
          "grade": true,
          "grade_id": "cell-b9ce4afcdb630096",
          "locked": true,
          "points": 64,
          "schema_version": 3,
          "solution": false,
          "task": false
        },
        "colab": {
          "base_uri": "https://localhost:8080/"
        },
        "id": "yqMYlMALF8am",
        "outputId": "7d652bd8-67d9-4482-efce-f30a3a647e25"
      },
      "source": [
        "# Pure Symbol & Unit Clause Heuristic Test, choosing the most-frequently used pure symbol, for KB from Russell & Norvig\n",
        "t, model, symbol_trace = DPLL_Satisfiable(KB,3)\n",
        "print(model)\n",
        "print(symbol_trace)\n",
        "\n",
        "# This model is satisfiable.  Test that it is so\n",
        "assert(t)\n",
        "\n",
        "# Check that the model found actually works\n",
        "assert(evaluate_KB(KB, model))\n",
        "\n",
        "# Test the symbol trace to ensure that the correct order is chosen\n",
        "assert([l.name for l in symbol_trace] in [['D', 'B', 'A', 'C', 'F', 'E', 'A'], \n",
        "                                          ['D', 'B' ,'E', 'A']])"
      ],
      "execution_count": 126,
      "outputs": [
        {
          "output_type": "stream",
          "name": "stdout",
          "text": [
            "{A: False, E: False, B: False, D: True}\n",
            "[D, B, E, A]\n"
          ]
        }
      ]
    },
    {
      "cell_type": "code",
      "metadata": {
        "id": "DvbBUJtGF8am"
      },
      "source": [
        ""
      ],
      "execution_count": 126,
      "outputs": []
    }
  ]
}